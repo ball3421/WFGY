{
 "cells": [
  { "cell_type": "markdown", "metadata": {},
    "source": [ "# WFGY one-click Colab demo" ] },

  { "cell_type": "code", "metadata": {},
    "source": [
      "#demo\n",
      "import subprocess, sys, importlib, json, pathlib, shutil, os\n",
      "\n",
      "work = pathlib.Path('/content/WFGY')\n",
      "if work.exists(): shutil.rmtree(work)\n",
      "subprocess.run(['git','clone','-q','https://github.com/onestardao/WFGY.git', str(work)])\n",
      "req = [\n",
      "  'numpy<2.0', 'torch==2.2.2', 'transformers==4.41.2',\n",
      "  'tabulate', 'matplotlib', 'sentence-transformers==4.1.0']\n",
      "subprocess.run([sys.executable,'-m','pip','install','-q','--no-cache-dir',*req])\n",
      "subprocess.run([sys.executable,'-m','pip','install','-q','-e', str(work), '--no-deps'])\n",
      "\n",
      "sys.path.append(str(work))\n",
      "from wfgy_full_demo import one_pass\n",
      "one_pass('Summarise Gödel\\'s incompleteness theorem in one line')\n",
      "\n",
      "from IPython.display import Image, display\n",
      "display(Image(filename=str(work/'hist.png')))"
    ],
    "execution_count": null,
    "outputs": [] }
 ],
 "metadata": { "kernelspec": { "display_name": "Python 3", "name": "python3" } },
 "nbformat": 4, "nbformat_minor": 0
}
