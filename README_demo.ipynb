{
 "cells": [
  { "cell_type": "markdown", "metadata": {}, "source": [
    "# WFGY one-click Colab demo",
    "一格跑到底，最後自動顯示 hist.png" ] },

  { "cell_type": "code", "metadata": {}, "source": [
    "%%bash\n",
    "set -e\n",
    "echo '🧹 fresh clone'\n",
    "rm -rf WFGY 2>/dev/null\n",
    "git clone -q https://github.com/onestardao/WFGY.git\n",
    "cd WFGY\n",
    "\n",
    "echo '🔧 installing wheels'\n",
    "pip install -q --no-cache-dir \"numpy<2.0\"\n",
    "pip install -q --no-cache-dir torch==2.2.2\n",
    "pip install -q --no-cache-dir transformers==4.41.2 tabulate matplotlib sentence-transformers==4.1.0\n",
    "\n",
    "echo '📦 install SDK & run demo'\n",
    "pip install -q -e . --no-deps\n",
    "python wfgy_full_demo.py\n",
    "\n",
    "python - <<'PY'\n",
    "from IPython.display import Image, display\n",
    "display(Image('hist.png'))\n",
    "PY"
  ],
    "execution_count": null, "outputs": [] }
 ],
 "metadata": { "kernelspec": { "display_name": "Python 3", "name": "python3" } },
 "nbformat": 4, "nbformat_minor": 0
}
