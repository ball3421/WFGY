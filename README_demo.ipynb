{
 "cells": [
  {
   "cell_type": "markdown",
   "metadata": {},
   "source": [
    "# WFGY one-click Colab demo\n",
    "Clone → pin wheels → run **wfgy_full_demo.py**"
   ]
  },
  {
   "cell_type": "code",
   "metadata": {},
   "source": [
    "# ① fresh clone + pinned deps\n",
    "!rm -rf WFGY 2>/dev/null\n",
    "!git clone -q https://github.com/onestardao/WFGY.git\n",
    "%cd WFGY\n",
    "\n",
    "# NumPy 1.x  + Torch 2.2.2 CPU  + Transformers 4.41.2\n",
    "!pip install -q --no-cache-dir numpy<2.0\n",
    "!pip install -q --no-cache-dir torch==2.2.2+cpu \\\n",
    "                      --index-url https://download.pytorch.org/whl/cpu\n",
    "!pip install -q --no-cache-dir transformers==4.41.2 tabulate matplotlib\n",
    "\n",
    "# install SDK (editable)\n",
    "!pip install -q -e . --no-deps"
   ],
   "execution_count": null,
   "outputs": []
  },
  {
   "cell_type": "code",
   "metadata": {},
   "source": [
    "# ② run the full demo (single prompt + batch table + histogram)\n",
    "!python wfgy_full_demo.py"
   ],
   "execution_count": null,
   "outputs": []
  }
 ],
 "metadata": {
  "kernelspec": { "display_name": "Python 3", "name": "python3" },
  "colab":      { "name": "README_demo.ipynb" }
 },
 "nbformat": 4,
 "nbformat_minor": 0
}
