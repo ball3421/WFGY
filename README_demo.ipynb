{
  "cells": [
    {
      "cell_type": "markdown",
      "metadata": {},
      "source": [
        "# WFGY one-click Colab demo\n",
        "Clone → install wheels → run all seven examples.\n",
        "\n",
        "*If wheels warn about CUDA, ignore it – CPU wheels run fine.*"
      ]
    },
    {
      "cell_type": "code",
      "execution_count": null,
      "metadata": {},
      "outputs": [],
      "source": [
        "!python -m pip install -q --progress-bar off \"numpy<2.0\" torch==2.2.2 transformers==4.41.2 matplotlib sentence-transformers==4.1.0 tabulate",
        "",
        "!rm -rf WFGY",
        "!git clone -q --depth 1 https://github.com/onestardao/WFGY.git",
        "!python -m pip install -q --progress-bar off -e WFGY --no-deps",
        "",
        "!python WFGY/examples/example_01_basic_run.py",
        "!python WFGY/examples/example_02_self_reflection.py",
        "!python WFGY/examples/example_03_chaos_mode.py",
        "!python WFGY/examples/example_04_remote_inference.py",
        "!python WFGY/examples/example_05_universe_test.py",
        "!python WFGY/examples/example_06_compare.py",
        "!python WFGY/examples/example_07_flash_show.py"
      ]
    }
  ],
  "metadata": {
    "kernelspec": {
      "display_name": "Python 3",
      "language": "python",
      "name": "python3"
    },
    "language_info": {
      "name": "python",
      "version": "3.x"
    }
  },
  "nbformat": 4,
  "nbformat_minor": 0
}
