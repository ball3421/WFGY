{
 "cells": [
  {
   "cell_type": "markdown",
   "metadata": {},
   "source": [
    "# WFGY one-click Colab demo\n",
    "Pins versions to avoid the NumPy-2 / PyTorch ABI clash.\n",
    "Demo runs on a fresh clone, with all dependencies fixed."
   ]
  },
  {
   "cell_type": "code",
   "metadata": {},
   "source": [
    "# Cell 1 ─ clone & clean\n",
    "!rm -rf /content/WFGY\n",
    "!git clone -q https://github.com/onestardao/WFGY.git\n",
    "%cd /content/WFGY\n"
   ],
   "execution_count": null,
   "outputs": []
  },
  {
   "cell_type": "code",
   "metadata": {},
   "source": [
    "# Cell 2 ─ install pins (NumPy 1.x + Torch 2.2.2 + Transformers 4.41.2)\n",
    "!pip install -q numpy<2.0 torch==2.2.2 transformers==4.41.2 \\\n",
    "                sentence-transformers==4.1.0 tabulate matplotlib\n"
   ],
   "execution_count": null,
   "outputs": []
  },
  {
   "cell_type": "code",
   "metadata": {},
   "source": [
    "# Cell 3 ─ install SDK (editable) & run demo\n",
    "!pip install -q -e . --no-deps\n",
    "!python wfgy_full_demo.py\n"
   ],
   "execution_count": null,
   "outputs": []
  }
 ],
 "metadata": {
  "kernelspec": {
   "display_name": "Python 3",
   "name": "python3"
  },
  "colab": {
   "name": "README_demo.ipynb"
  }
 },
 "nbformat": 4,
 "nbformat_minor": 0
}
