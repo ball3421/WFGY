{
 "cells": [
  {
   "cell_type": "markdown",
   "metadata": {},
   "source": [
    "# One-click WFGY demo\n",
    "Installs the SDK with pinned versions, then runs **wfgy_full_demo.py**.\n",
    "\n",
    "* NumPy pinned < 2.0 to avoid ABI clash\n",
    "* CPU wheels only — works on free Colab\n"
   ]
  },
  {
   "cell_type": "code",
   "metadata": { "id": "install_run" },
   "source": [
    "# 1. clone repo\n",
    "!git clone -q https://github.com/onestardao/WFGY.git\n",
    "%cd WFGY\n",
    "\n",
    "# 2. pin NumPy < 2 to match PyTorch build\n",
    "!pip install --quiet \"numpy<2.0\"  \n",
    "\n",
    "# 3. install core deps (CPU wheels)\n",
    "!pip install --quiet torch==2.2.1+cpu --index-url https://download.pytorch.org/whl/cpu  \n",
    "!pip install --quiet transformers==4.38.2 tabulate matplotlib  \n",
    "\n",
    "# 4. install WFGY SDK from local repo (editable, no extra deps)\n",
    "!pip install --quiet -e . --no-deps  \n",
    "\n",
    "# 5. run full demo script\n",
    "!python wfgy_full_demo.py"
   ],
   "execution_count": null,
   "outputs": []
  }
 ],
 "metadata": {
  "kernelspec": { "display_name": "Python 3", "name": "python3" },
  "colab": { "name": "README_demo.ipynb" }
 },
 "nbformat": 4,
 "nbformat_minor": 0
}
