{
  "cells": [
    {
      "cell_type": "markdown",
      "metadata": {},
      "source": [
        "# WFGY one-click Colab demo\n",
        "Clone → install wheels → run all 7 examples in sequence\n",
        "\n",
        "> *If you see any wheel warnings, ignore them – the scripts still run.*"
      ]
    },
    {
      "cell_type": "code",
      "metadata": {},
      "source": [
        # install wheels (quiet)\n",
        "!python -m pip install -q --progress-bar off \"numpy<2.0\" torch==2.2.2 transformers==4.41.2 matplotlib sentence-transformers==4.1.0 tabulate\n",
        "\n",
        "# fresh clone of the repo\n",
        "!rm -rf WFGY\n",
        "!git clone -q --depth 1 https://github.com/onestardao/WFGY.git\n",
        "!python -m pip install -q --progress-bar off -e WFGY --no-deps\n",
        "\n",
        "# run all seven examples\n",
        "!python WFGY/examples/example_01_basic_run.py\n",
        "!python WFGY/examples/example_02_self_reflection.py\n",
        "!python WFGY/examples/example_03_chaos_mode.py\n",
        "!python WFGY/examples/example_04_remote_inference.py\n",
        "!python WFGY/examples/example_05_universe_test.py\n",
        "!python WFGY/examples/example_06_compare.py\n",
        "!python WFGY/examples/example_07_flash_show.py"
      ],
      "execution_count": null,
      "outputs": []
    }
  ],
  "metadata": {
    "kernelspec": {
      "display_name": "Python 3",
      "language": "python",
      "name": "python3"
    }
  },
  "nbformat": 4,
  "nbformat_minor": 0
}
