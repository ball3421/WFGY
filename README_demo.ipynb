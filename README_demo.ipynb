{
  "cells": [
    {
      "cell_type": "code",
      "metadata": {},
      "source": [
        "# install wheels\n",
        "!python -m pip install -qq --progress-bar off \"numpy<2.0\" torch==2.2.2+cpu transformers==4.41.2 matplotlib sentence-transformers==4.1.0 tabulate --force-reinstall\n",
        "# fresh clone\n",
        "!rm -rf WFGY && git clone -q https://github.com/onestardao/WFGY.git\n",
        "# run example 07\n",
        "!python WFGY/examples/example_07_flash_show.py"
      ],
      "execution_count": null,
      "outputs": []
    }
  ],
  "metadata": {
    "kernelspec": { "display_name": "Python 3", "language": "python", "name": "python3" }
  },
  "nbformat": 4,
  "nbformat_minor": 0
}
