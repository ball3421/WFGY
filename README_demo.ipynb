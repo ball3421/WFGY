{
 "cells": [
  {
   "cell_type": "markdown",
   "metadata": {},
   "source": [
    "# WFGY one-click Colab demo\n",
    "Pins versions to avoid the NumPy-2 / PyTorch ABI clash,\n",
    "then runs `wfgy_full_demo.py`."
   ]
  },
  {
   "cell_type": "code",
   "metadata": { "id": "install-and-run" },
   "source": [
    "# 1. clone repo\n",
    "!git clone -q https://github.com/onestardao/WFGY.git\n",
    "%cd WFGY\n",
    "\n",
    "# 2. ensure compatible NumPy + PyTorch + Transformers\n",
    "!pip install -q numpy<2.0 torch==2.2.1+cpu --index-url https://download.pytorch.org/whl/cpu\n",
    "!pip install -q transformers==4.41.2 sentence-transformers tabulate matplotlib\n",
    "\n",
    "# 3. install SDK (editable, no extra deps)\n",
    "!pip install -q -e . --no-deps\n",
    "\n",
    "# 4. run the full demo script\n",
    "!python wfgy_full_demo.py"
   ],
   "execution_count": null,
   "outputs": []
  }
 ],
 "metadata": {
  "kernelspec": { "display_name": "Python 3", "name": "python3" },
  "colab": { "name": "README_demo.ipynb" }
 },
 "nbformat": 4,
 "nbformat_minor": 0
}
