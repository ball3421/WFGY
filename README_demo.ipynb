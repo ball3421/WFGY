{
 "cells": [
  {
   "cell_type": "markdown",
   "metadata": {},
   "source": [
    "# WFGY one-click Colab demo\n",
    "Clone → install pinned wheels → run **wfgy_full_demo.py**"
   ]
  },
  {
   "cell_type": "code",
   "metadata": {},
   "source": [
    "# 1. fresh clone\n",
    "!rm -rf WFGY 2>/dev/null\n",
    "!git clone -q https://github.com/onestardao/WFGY.git\n",
    "%cd WFGY"
   ],
   "execution_count": null,
   "outputs": []
  },
  {
   "cell_type": "code",
   "metadata": {},
   "source": [
    "# 2. install pinned wheels\n",
    "!pip install -q --no-cache-dir \"numpy<2.0\" torch==2.2.2 \\\n",
    "    transformers==4.41.2 tabulate matplotlib sentence-transformers==4.1.0"
   ],
   "execution_count": null,
   "outputs": []
  },
  {
   "cell_type": "code",
   "metadata": {},
   "source": [
    "# 3. install SDK + run demo\n",
    "!pip install -q -e . --no-deps\n",
    "!python wfgy_full_demo.py"
   ],
   "execution_count": null,
   "outputs": []
  }
 ],
 "metadata": {
  "kernelspec": { "display_name": "Python 3", "name": "python3" },
  "colab":      { "name": "README_demo.ipynb" }
 },
 "nbformat": 4,
 "nbformat_minor": 0
}
