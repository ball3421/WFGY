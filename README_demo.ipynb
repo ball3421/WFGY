{
 "cells": [
  {
   "cell_type": "markdown",
   "metadata": {},
   "source": [
    "# WFGY one-click Colab demo\n",
    "Pins versions to avoid the NumPy-2 / PyTorch ABI clash,\n",
    "then runs `wfgy_full_demo.py`."
   ]
  },
  {
# 1. clone repo
!git clone -q https://github.com/onestardao/WFGY.git
%cd WFGY

# 2. pin compatible wheels (NumPy < 2 + CPU torch)
!pip install -q "numpy<2.0" torch==2.2.1+cpu \
  --index-url https://download.pytorch.org/whl/cpu

# 3. libs needed by the demo
!pip install -q transformers==4.41.2 sentence-transformers \
  tabulate matplotlib

# 4. install SDK in editable mode
!pip install -q -e . --no-deps

# 5. run the demo
!python wfgy_full_demo.py

   ],
   "execution_count": null,
   "outputs": []
  }
 ],
 "metadata": {
  "kernelspec": { "display_name": "Python 3", "name": "python3" },
  "colab": { "name": "README_demo.ipynb" }
 },
 "nbformat": 4,
 "nbformat_minor": 0
}
