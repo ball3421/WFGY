{
  "cells": [
    { "cell_type": "markdown", "metadata": {}, "source": [
        "# WFGY examples 01-07 (flash run)"] },

    { "cell_type": "code", "metadata": {}, "source": [
        "%%bash\n",
        "set -e\n",
        "echo '📥 cloning'; rm -rf WFGY 2>/dev/null\n",
        "git clone -q https://github.com/onestardao/WFGY.git\n",
        "cd WFGY\n",
        "echo '📦 installing';\n",
        "python -m pip install -qq --progress-bar off \"numpy<2.0\" torch==2.2.2 transformers==4.41.2 matplotlib sentence-transformers==4.1.0 tabulate\n",
        "python -m pip install -qq --progress-bar off -e . --no-deps\n",
        "echo '✅ ready'\n",
        "python examples/example_01_basic_run.py\n",
        "python examples/example_02_self_reflection.py\n",
        "python examples/example_03_chaos_mode.py\n",
        "python examples/example_07_flash_show.py"
      ],
      "execution_count": null,
      "outputs": [] }
  ],
  "metadata": {
    "kernelspec": { "display_name": "Python 3", "language": "python", "name": "python3" }
  },
  "nbformat": 4,
  "nbformat_minor": 0
}
