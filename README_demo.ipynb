{
 "cells": [
  { "cell_type": "markdown", "metadata": {}, "source": [
    "# WFGY one-click Colab demo" ] },

  { "cell_type": "code", "metadata": {}, "source": [
    "!rm -rf WFGY 2>/dev/null\n",
    "!git clone -q https://github.com/onestardao/WFGY.git\n",
    "%cd WFGY\n",
    "!pip install -q --no-cache-dir \"numpy<2.0\" torch==2.2.2\n",
    "!pip install -q --no-cache-dir transformers==4.41.2 tabulate matplotlib sentence-transformers==4.1.0\n",
    "!pip install -q -e . --no-deps\n",
    "!python wfgy_full_demo.py"
  ],
    "execution_count": null, "outputs": [] },

  { "cell_type": "code", "metadata": {}, "source": [
    "from IPython.display import Image, display\n",
    "display(Image('hist.png'))"
  ],
    "execution_count": null, "outputs": [] }
 ],
 "metadata": { "kernelspec": { "display_name": "Python 3", "name": "python3" } },
 "nbformat": 4, "nbformat_minor": 0
}
