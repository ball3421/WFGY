{
  "cells": [
    {
      "cell_type": "markdown",
      "metadata": {},
      "source": ["# WFGY one-click Colab demo"]
    },
    {
      "cell_type": "code",
      "metadata": {},
      "source": [
        "%%bash\n",
        "set -e\n",
        "echo '📥 cloning repo'; rm -rf WFGY 2>/dev/null\n",
        "git clone -q https://github.com/onestardao/WFGY.git\n",
        "cd WFGY\n",
        "echo '📦 installing wheels (this may take ~1-2 min)'\n",
        "python -m pip install -qq --no-cache-dir \"numpy<2.0\" torch==2.2.2\n",
        "python -m pip install -qq --no-cache-dir transformers==4.41.2 tabulate matplotlib sentence-transformers==4.1.0\n",
        "python -m pip install -qq --no-cache-dir -e . --no-deps\n",
        "echo '✅ install done'"
      ],
      "execution_count": null,
      "outputs": []
    },
    {
      "cell_type": "code",
      "metadata": {},
      "source": [
        "from wfgy_full_demo import one_pass\n",
        "one_pass(\"Summarise Gödel's incompleteness theorem in one line\")\n",
        "\n",
        "from IPython.display import Image, Markdown, display\n",
        "display(Image('hist.png'))\n",
        "\n",
        "bench_md = (\n",
        "    '| Benchmark | Baseline (%) | WFGY 1.0 (%) | Δ Abs | Δ Rel |\\n'\n",
        "    '|-----------|--------------|--------------|-------|-------|\\n'\n",
        "    '| MMLU      | 61.0 | 89.8 | +28.8 | +47% |\\n'\n",
        "    '| GSM8K     | 78.0 | 98.7 | +20.7 | +27% |\\n'\n",
        "    '| BBH       | 79.3 | 100.7 | +21.4 | +27% |\\n'\n",
        "    '| MathBench | 72.2 | 87.4 | +15.2 | +21% |\\n'\n",
        "    '| TruthfulQA| 62.4 | 90.4 | +28.0 | +45% |')\n",
        "display(Markdown('## Paper benchmark highlights\\n' + bench_md))\n",
        "cta = ('\\n---\\n'\n",
        "       '**Tiny GPT-2 is only a sandbox – larger LLMs yield stronger KL & var-drop.**  '\n",
        "       '**10 000 GitHub stars before 2025-08-01 unlocks WFGY 2.0!**')\n",
        "display(Markdown(cta))"
      ],
      "execution_count": null,
      "outputs": []
    }
  ],
  "metadata": {
    "kernelspec": { "display_name": "Python 3", "name": "python3" }
  },
  "nbformat": 4,
  "nbformat_minor": 0
}
