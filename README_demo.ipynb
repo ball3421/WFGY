{
  "cells": [
    {
      "cell_type": "markdown",
      "metadata": {},
      "source": [
        "# WFGY one-click Colab demo\n",
        "Clone → install wheels → run demo → show results\n"
      ]
    },
    {
      "cell_type": "code",
      "metadata": {},
      "source": [
        "# step 1  clone repo and install pinned wheels\n",
        "!rm -rf WFGY 2>/dev/null\n",
        "!git clone -q https://github.com/onestardao/WFGY.git\n",
        "%cd WFGY\n",
        "!pip install -q --no-cache-dir \"numpy<2.0\" torch==2.2.2\n",
        "!pip install -q --no-cache-dir transformers==4.41.2 tabulate matplotlib sentence-transformers==4.1.0\n",
        "!pip install -q -e . --no-deps"
      ],
      "execution_count": null,
      "outputs": []
    },
    {
      "cell_type": "code",
      "metadata": {},
      "source": [
        "# step 2  run the SDK demo → hist.png + metrics dict\n",
        "from wfgy_full_demo import one_pass\n",
        "one_pass(\"Summarise Gödel's incompleteness theorem in one line\")"
      ],
      "execution_count": null,
      "outputs": []
    },
    {
      "cell_type": "code",
      "metadata": {},
      "source": [
        "# step 3  display histogram and paper benchmark table\n",
        "from IPython.display import Image, Markdown, display\n",
        "display(Image('hist.png'))\n",
        "\n",
        "paper_table = \"\"\"\n",
        "| Benchmark | Baseline (%) | WFGY 1.0 (%) | Δ Abs | Δ Rel |\n",
        "|-----------|-------------|--------------|-------|-------|\n",
        "| MMLU      | 61.0 | 89.8 | +28.8 | +47 % |\n",
        "| GSM8K     | 78.0 | 98.7 | +20.7 | +27 % |\n",
        "| BBH       | 79.3 | 100.7 | +21.4 | +27 % |\n",
        "| MathBench | 72.2 | 87.4 | +15.2 | +21 % |\n",
        "| TruthfulQA| 62.4 | 90.4 | +28.0 | +45 % |\n",
        "\"\"\"\n",
        "display(Markdown(\"## Paper benchmark highlights\\n\" + paper_table))\n",
        "\n",
        "cta = (\n",
        "    \"---\\n\"\n",
        "    \"**GPT-2 here is only a tiny appetizer — bigger LLMs show stronger KL and var-drop.**  \"\n",
        "    \"Give the project a ⭐ on GitHub: **10 000 stars before *2025-08-01* unlocks WFGY 2.0!**\"\n",
        ")\n",
        "display(Markdown(cta))"
      ],
      "execution_count": null,
      "outputs": []
    }
  ],
  "metadata": {
    "kernelspec": { "display_name": "Python 3", "language": "python", "name": "python3" }
  },
  "nbformat": 4,
  "nbformat_minor": 0
}
