{
  "cells": [
    {
      "cell_type": "markdown",
      "metadata": {},
      "source": [
        "# WFGY one-click Colab demo\n",
        "clone → install wheels → run six examples"
      ]
    },
    {
      "cell_type": "code",
      "execution_count": null,
      "metadata": {},
      "outputs": [],
      "source": [
        "%%bash\n",
        "set -e\n",
        "python -m pip install -q --progress-bar off \"numpy<2.0\" torch==2.2.2 transformers==4.41.2 matplotlib sentence-transformers==4.1.0 tabulate\n",
        "rm -rf WFGY && git clone -q --depth 1 https://github.com/onestardao/WFGY.git\n",
        "python -m pip install -q --progress-bar off -e WFGY --no-deps\n",
        "\n",
        "python WFGY/examples/example_01_basic_run.py\n",
        "# example_02_self_reflection.py skipped (obsolete field)\n",
        "python WFGY/examples/example_03_chaos_mode.py\n",
        "python WFGY/examples/example_04_remote_inference.py\n",
        "python WFGY/examples/example_05_universe_test.py\n",
        "python WFGY/examples/example_06_compare.py\n",
        "python WFGY/examples/example_07_flash_show.py"
      ]
    }
  ],
  "metadata": {
    "kernelspec": { "display_name": "Python 3", "language": "python", "name": "python3" }
  },
  "nbformat": 4,
  "nbformat_minor": 0
}
