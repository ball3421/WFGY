{
  "cells": [
    { "cell_type": "markdown", "metadata": {}, "source": [
        "# WFGY flash-show demo (example_07)"] },

    { "cell_type": "code", "metadata": {}, "source": [
        "%%bash\n",
        "set -e\n",
        "echo '📥 cloning repo'; rm -rf WFGY 2>/dev/null\n",
        "git clone -q https://github.com/onestardao/WFGY.git\n",
        "cd WFGY\n",
        "echo '📦 installing wheels';\n",
        "python -m pip install -qq --progress-bar off \"numpy<2.0\" torch==2.2.2\n",
        "python -m pip install -qq --progress-bar off transformers==4.41.2 tabulate matplotlib sentence-transformers==4.1.0\n",
        "python -m pip install -qq --progress-bar off -e . --no-deps\n",
        "echo '✅ install done'\n",
        "python examples/example_07_flash_show.py"
      ],
      "execution_count": null,
      "outputs": [] }
  ],
  "metadata": {
    "kernelspec": { "display_name": "Python 3", "language": "python", "name": "python3" }
  },
  "nbformat": 4,
  "nbformat_minor": 0
}
