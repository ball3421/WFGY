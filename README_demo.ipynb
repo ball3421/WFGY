{
 "cells": [
  {
   "cell_type": "markdown",
   "metadata": {},
   "source": [
    "# WFGY one-click Colab demo\n",
    "*clone → 安裝 pinned wheels → 跑 **wfgy_full_demo.py***"
   ]
  },
  {
   "cell_type": "code",
   "metadata": {},
   "source": [
    "# ⒈ fresh clone\n",
    "!rm -rf WFGY 2>/dev/null\n",
    "!git clone -q https://github.com/onestardao/WFGY.git\n",
    "%cd WFGY"
   ],
   "execution_count": null,
   "outputs": []
  },
  {
   "cell_type": "code",
   "metadata": {},
   "source": [
    "# ⒉ pin wheels (NumPy <2  + Torch 2.2.2 CPU  + TF 4.41.2)\n",
    "!pip install -q --no-cache-dir numpy<2.0 torch==2.2.2 \n",
    "!pip install -q --no-cache-dir transformers==4.41.2 tabulate matplotlib"
   ],
   "execution_count": null,
   "outputs": []
  },
  {
   "cell_type": "code",
   "metadata": {},
   "source": [
    "# ⒊ install SDK + run demo\n",
    "!pip install -q -e . --no-deps\n",
    "!python wfgy_full_demo.py"
   ],
   "execution_count": null,
   "outputs": []
  }
 ],
 "metadata": {
  "kernelspec": { "display_name": "Python 3", "name": "python3" },
  "colab":      { "name": "README_demo.ipynb" }
 },
 "nbformat": 4,
 "nbformat_minor": 0
}
