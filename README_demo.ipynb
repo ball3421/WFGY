{
 "cells": [
  {
   "cell_type": "markdown",
   "metadata": {},
   "source": [
    "# WFGY one-click Colab demo\n",
    "Pins exact versions → avoid NumPy 2 / Torch ABI clash.\n",
    "\n",
    "*Clone → install pinned wheels → run **wfgy_full_demo.py***"
   ]
  },
  {
   "cell_type": "code",
   "metadata": {},
   "source": [
    "# ① clone fresh repo\n",
    "!rm -rf WFGY 2>/dev/null\n",
    "!git clone -q https://github.com/onestardao/WFGY.git\n",
    "%cd WFGY"
   ],
   "execution_count": null,
   "outputs": []
  },
  {
   "cell_type": "code",
   "metadata": {},
   "source": [
    "# ② install pinned deps (NumPy 1.x + Torch 2.2.2 CPU + TF 4.41.2)\n",
    "!pip install -q numpy<2.0 torch==2.2.2+cpu \\ \n",
    "                --index-url https://download.pytorch.org/whl/cpu\n",
    "!pip install -q transformers==4.41.2 sentence-transformers==4.1.0 \\\n",
    "                tabulate matplotlib"
   ],
   "execution_count": null,
   "outputs": []
  },
  {
   "cell_type": "code",
   "metadata": {},
   "source": [
    "# ③ install WFGY SDK (editable) & run demo\n",
    "!pip install -q -e . --no-deps\n",
    "!python wfgy_full_demo.py"
   ],
   "execution_count": null,
   "outputs": []
  }
 ],
 "metadata": {
  "kernelspec": { "display_name": "Python 3", "name": "python3" },
  "colab":      { "name": "README_demo.ipynb" }
 },
 "nbformat": 4,
 "nbformat_minor": 0
}
