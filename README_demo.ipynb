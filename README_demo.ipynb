{
 "cells": [
  {
   "cell_type": "markdown",
   "metadata": {},
   "source": [
    "# WFGY one-click Colab demo  \n",
    "Pins versions to dodge the NumPy-2 / PyTorch ABI clash, installs the SDK, then runs `wfgy_full_demo.py`.\n"
   ]
  },
  {
   "cell_type": "code",
   "metadata": {},
   "source": [
    "# 🐑 fresh clone – wipe any prior nested folders\n",
    "!rm -rf /content/WFGY\n",
    "!git clone -q https://github.com/onestardao/WFGY.git\n",
    "%cd /content/WFGY"
   ],
   "execution_count": null,
   "outputs": []
  },
  {
   "cell_type": "code",
   "metadata": {},
   "source": [
    "# 📦 pin critical wheels (NumPy 1.x + CPU Torch 2.2.2 + latest compatible Transformers)\n",
    "!pip install -q numpy<2.0 torch==2.2.2+cpu --index-url https://download.pytorch.org/whl/cpu\n",
    "!pip install -q transformers==4.41.2 sentence-transformers==4.1.0 tabulate matplotlib"
   ],
   "execution_count": null,
   "outputs": []
  },
  {
   "cell_type": "code",
   "metadata": {},
   "source": [
    "# 🧠 install WFGY SDK (editable) & launch demo\n",
    "!pip install -q -e . --no-deps\n",
    "!python wfgy_full_demo.py"
   ],
   "execution_count": null,
   "outputs": []
  }
 ],
 "metadata": {
  "kernelspec": {
   "name": "python3",
   "display_name": "Python 3"
  },
  "colab": {
   "name": "README_demo.ipynb"
  }
 },
 "nbformat": 4,
 "nbformat_minor": 0
}
