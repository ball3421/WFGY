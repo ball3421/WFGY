{
 "cells": [
  {
   "cell_type": "markdown",
   "metadata": {},
   "source": [
    "# WFGY instant demo  🚀\n",
    "Runs in <30 sec on free Colab (CPU)."
   ]
  },
  {
   "cell_type": "code",
   "metadata": { "id": "install" },
   "source": [
    "!pip install --quiet git+https://github.com/onestardao/WFGY.git@main"
   ],
   "execution_count": null,
   "outputs": []
  },
  {
   "cell_type": "code",
   "metadata": { "id": "run" },
   "source": [
    "import wfgy_sdk as w, numpy as np\n",
    "from wfgy_sdk.evaluator import compare_logits, pretty_print\n",
    "\n",
    "raw = np.random.randn(32000)\n",
    "G = np.random.randn(256); G /= np.linalg.norm(G)\n",
    "I = G + np.random.normal(scale=0.05, size=256)\n",
    "\n",
    "out = w.get_engine().run(I, G, raw)\n",
    "pretty_print(compare_logits(raw, out))"
   ],
   "execution_count": null,
   "outputs": []
  }
 ],
 "metadata": {
  "kernelspec": { "display_name": "Python 3", "name": "python3" },
  "colab": { "name": "README_demo.ipynb" }
 },
 "nbformat": 4,
 "nbformat_minor": 0
}
