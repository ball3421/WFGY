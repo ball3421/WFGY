{
 "cells": [
  {
   "cell_type": "markdown",
   "metadata": {},
   "source": [
    "# One-click WFGY demo\n",
    "Installs the SDK, then runs **wfgy_full_demo.py** which shows:\n",
    "* single-prompt variance / KL / histogram  \n",
    "* batch metrics table (5 prompts)  \n",
    "* marketing footer with PDF mode & star goal"
   ]
  },
  {
   "cell_type": "code",
   "metadata": { "id": "install_run" },
   "source": [
    "# clone repo\n",
    "!git clone https://github.com/onestardao/WFGY.git\n",
    "%cd WFGY\n",
    "\n",
    "# install SDK + deps (CPU wheels)\n",
    "!pip install --quiet -e . tabulate matplotlib transformers torch==2.2.1 \\\n",
    "    --extra-index-url https://download.pytorch.org/whl/cpu/torch_stable.html\n",
    "\n",
    "# run full demo script\n",
    "!python wfgy_full_demo.py"
   ],
   "execution_count": null,
   "outputs": []
  }
 ],
 "metadata": {
  "kernelspec": { "display_name": "Python 3", "name": "python3" },
  "colab": { "name": "README_demo.ipynb" }
 },
 "nbformat": 4,
 "nbformat_minor": 0
}
