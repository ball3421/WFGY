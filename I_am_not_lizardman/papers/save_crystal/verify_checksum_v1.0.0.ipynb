{
 "cells": [
  {
   "cell_type": "markdown",
   "id": "57d61231",
   "metadata": {},
   "source": [
    "# ✅ WFGY Maze Checksum Verifier\n",
    "Verify if your downloaded maze matches the official v1.0.0 release."
   ]
  },
  {
   "cell_type": "code",
   "execution_count": null,
   "id": "f7c9bd3d",
   "metadata": {},
   "outputs": [],
   "source": [
    "# 👇 STEP 1: Mount your GitHub repo or upload your folder (use only one)\n",
    "from google.colab import drive\n",
    "drive.mount('/content/drive')  # optional, only if you use Google Drive\n",
    "\n",
    "# Alternatively: unzip and place your maze folder under /content/maze_folder/\n"
   ]
  },
  {
   "cell_type": "code",
   "execution_count": null,
   "id": "2f42b4ff",
   "metadata": {},
   "outputs": [],
   "source": [
    "# 👇 STEP 2: Download official checksum file (auto-handled here)\n",
    "!wget -O checksum_v1.0.0.txt https://yourdomain.com/path/to/checksum_v1.0.0.txt\n"
   ]
  },
  {
   "cell_type": "code",
   "execution_count": null,
   "id": "8660390a",
   "metadata": {},
   "outputs": [],
   "source": [
    "# 👇 STEP 3: Walk through folder, compute SHA256 of each file\n",
    "import hashlib\n",
    "import os\n",
    "\n",
    "def compute_sha256(filepath):\n",
    "    sha256_hash = hashlib.sha256()\n",
    "    with open(filepath, \"rb\") as f:\n",
    "        for byte_block in iter(lambda: f.read(4096), b\"\"):\n",
    "            sha256_hash.update(byte_block)\n",
    "    return sha256_hash.hexdigest()\n",
    "\n",
    "def scan_directory(base_path):\n",
    "    result = {}\n",
    "    for root, dirs, files in os.walk(base_path):\n",
    "        for file in files:\n",
    "            full_path = os.path.join(root, file)\n",
    "            rel_path = os.path.relpath(full_path, base_path)\n",
    "            result[rel_path.replace('\\\\','/')] = compute_sha256(full_path)\n",
    "    return result\n",
    "\n",
    "user_checksums = scan_directory('/content/maze_folder')\n"
   ]
  },
  {
   "cell_type": "code",
   "execution_count": null,
   "id": "9a283079",
   "metadata": {},
   "outputs": [],
   "source": [
    "# 👇 STEP 4: Load official checksums\n",
    "official_checksums = {}\n",
    "with open(\"checksum_v1.0.0.txt\", \"r\") as f:\n",
    "    for line in f:\n",
    "        checksum, filename = line.strip().split(\"  \")\n",
    "        official_checksums[filename] = checksum\n"
   ]
  },
  {
   "cell_type": "code",
   "execution_count": null,
   "id": "d694ca2e",
   "metadata": {},
   "outputs": [],
   "source": [
    "# 👇 STEP 5: Compare\n",
    "match = True\n",
    "for filename in official_checksums:\n",
    "    user_hash = user_checksums.get(filename)\n",
    "    official_hash = official_checksums[filename]\n",
    "    if user_hash != official_hash:\n",
    "        print(f\"❌ Mismatch: {filename}\")\n",
    "        match = False\n",
    "\n",
    "if match:\n",
    "    print(\"✅ All files verified! You’re exploring the authentic v1.0.0 maze.\")\n",
    "else:\n",
    "    print(\"⚠️ Some files don’t match. This may be a fork or a corrupted download.\")\n"
   ]
  }
 ],
 "metadata": {},
 "nbformat": 4,
 "nbformat_minor": 5
}
